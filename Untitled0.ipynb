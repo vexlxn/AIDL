{
  "cells": [
    {
      "cell_type": "code",
      "execution_count": null,
      "metadata": {
        "colab": {
          "base_uri": "https://localhost:8080/"
        },
        "id": "bzVdQi6N9vz6",
        "outputId": "d85710dc-1cb2-4bdd-d337-e1ce96ac4957"
      },
      "outputs": [
        {
          "output_type": "stream",
          "name": "stdout",
          "text": [
            "Mounted at /content/drive\n"
          ]
        }
      ],
      "source": [
        "#My dataset is available in googledrive; so I am accessing my drive from colab\n",
        "from google.colab import drive\n",
        "drive.mount('/content/drive', force_remount=True)\n",
        "#Once this is executed, you will see your drive appearing on the left hand side"
      ]
    },
    {
      "cell_type": "code",
      "execution_count": null,
      "metadata": {
        "id": "J41KPI9N_MXX"
      },
      "outputs": [],
      "source": [
        "# Define paths to the dataset\n",
        "train_dir = '/content/drive/MyDrive/train'  # Update with your actual path\n",
        "test_dir = '/content/drive/MyDrive/horse-or-human'    # Update with your actual path"
      ]
    },
    {
      "cell_type": "code",
      "execution_count": null,
      "metadata": {
        "colab": {
          "base_uri": "https://localhost:8080/"
        },
        "id": "yDktPwEbJNKz",
        "outputId": "7ac41b69-a8f9-4b32-af65-fd296cbff3e3"
      },
      "outputs": [
        {
          "output_type": "stream",
          "name": "stdout",
          "text": [
            "500\n",
            "527\n",
            "500\n",
            "527\n"
          ]
        }
      ],
      "source": [
        "import os\n",
        "print(len(os.listdir('//content/drive/MyDrive/train/horses')))\n",
        "print(len(os.listdir('/content/drive/MyDrive/train/humans')))\n",
        "print(len(os.listdir('/content/drive/MyDrive/horse-or-human/train/horses')))\n",
        "print(len(os.listdir('/content/drive/MyDrive/horse-or-human/train/humans')))"
      ]
    },
    {
      "cell_type": "code",
      "execution_count": null,
      "metadata": {
        "colab": {
          "base_uri": "https://localhost:8080/"
        },
        "id": "JoJcy0xIJNWh",
        "outputId": "c43e8c83-0786-486b-9715-1f9cf663fe11"
      },
      "outputs": [
        {
          "output_type": "stream",
          "name": "stdout",
          "text": [
            "Found 822 images belonging to 2 classes.\n",
            "Found 205 images belonging to 2 classes.\n"
          ]
        }
      ],
      "source": [
        "import tensorflow as tf\n",
        "from tensorflow.keras.preprocessing.image import ImageDataGenerator\n",
        "\n",
        "# Create ImageDataGenerator for training set\n",
        "train_datagen = ImageDataGenerator(\n",
        "    rescale=1./255,\n",
        "    validation_split=0.2  # Split 20% of the images for validation\n",
        ")\n",
        "\n",
        "# Load and prepare training data\n",
        "train_data = train_datagen.flow_from_directory(\n",
        "    train_dir,\n",
        "    target_size=(256,256),\n",
        "    batch_size=32,\n",
        "    class_mode='binary',  # 'binary' for binary classification (cats vs. dogs)\n",
        "    subset='training'  # Specify 'training' for the training set\n",
        ")\n",
        "\n",
        "# Create ImageDataGenerator for validation set\n",
        "validation_datagen = ImageDataGenerator(\n",
        "    rescale=1./255,\n",
        "    validation_split=0.2  # Note: Using the same validation split as in the training set\n",
        ")\n",
        "\n",
        "# Load and prepare validation data\n",
        "validation_data = validation_datagen.flow_from_directory(\n",
        "    train_dir,\n",
        "    target_size=(256,256),\n",
        "    batch_size=32,\n",
        "    class_mode='binary',\n",
        "    subset='validation'  # Specify 'validation' for the validation set\n",
        ")"
      ]
    },
    {
      "cell_type": "code",
      "execution_count": null,
      "metadata": {
        "id": "ITSXzn0JLMsU"
      },
      "outputs": [],
      "source": [
        "from tensorflow import keras\n",
        "from keras import Sequential\n",
        "from keras.layers import Dense,Conv2D,MaxPooling2D,Flatten,BatchNormalization,UpSampling2D, Dropout"
      ]
    },
    {
      "cell_type": "code",
      "execution_count": null,
      "metadata": {
        "id": "7mFb-RJkLMuv"
      },
      "outputs": [],
      "source": [
        "# create CNN model\n",
        "\n",
        "model = Sequential()\n",
        "\n",
        "model.add(Conv2D(32,kernel_size=(3,3),padding='valid',activation='relu',input_shape=(256,256,3)))  # 32 filters\n",
        "#model.add(BatchNormalization())  # added to reduce overfitting\n",
        "model.add(MaxPooling2D(pool_size=(2,2),strides=2,padding='valid'))\n",
        "\n",
        "model.add(Conv2D(64,kernel_size=(3,3),padding='valid',activation='relu'))\n",
        "#model.add(BatchNormalization())  # added to reduce overfitting\n",
        "model.add(MaxPooling2D(pool_size=(2,2),strides=2,padding='valid'))\n",
        "\n",
        "model.add(Conv2D(128,kernel_size=(3,3),padding='valid',activation='relu'))\n",
        "#model.add(BatchNormalization())  # added to reduce overfitting\n",
        "model.add(MaxPooling2D(pool_size=(2,2),strides=2,padding='valid'))\n",
        "\n",
        "model.add(Flatten())\n",
        "\n",
        "model.add(Dense(128,activation='relu')) #feature reduction\n",
        "#model.add(Dropout(0.1))  # added to reduce overfitting\n",
        "model.add(Dense(64,activation='relu'))\n",
        "#model.add(Dropout(0.1))  # added to reduce overfitting\n",
        "model.add(Dense(1,activation='sigmoid'))  #output layer"
      ]
    },
    {
      "cell_type": "code",
      "execution_count": null,
      "metadata": {
        "id": "RBjnYYtyLMxc"
      },
      "outputs": [],
      "source": [
        "from keras.optimizers import Adam\n",
        "model.compile(optimizer=Adam(learning_rate=0.001),loss='binary_crossentropy',metrics=['accuracy']) #binary_crossentropy - binary classification"
      ]
    },
    {
      "cell_type": "code",
      "execution_count": null,
      "metadata": {
        "colab": {
          "base_uri": "https://localhost:8080/"
        },
        "id": "SL1cRCGdLM0_",
        "outputId": "b3a5cef8-daa6-47fc-a772-b045fe03a88d"
      },
      "outputs": [
        {
          "output_type": "stream",
          "name": "stdout",
          "text": [
            "Epoch 1/30\n",
            "26/26 [==============================] - 301s 11s/step - loss: 0.5858 - accuracy: 0.7518 - val_loss: 0.1786 - val_accuracy: 0.9317\n",
            "Epoch 2/30\n",
            "26/26 [==============================] - 142s 5s/step - loss: 0.1025 - accuracy: 0.9611 - val_loss: 0.1281 - val_accuracy: 0.9659\n",
            "Epoch 3/30\n",
            "26/26 [==============================] - 141s 5s/step - loss: 0.1104 - accuracy: 0.9538 - val_loss: 0.0669 - val_accuracy: 0.9805\n",
            "Epoch 4/30\n",
            "26/26 [==============================] - 139s 5s/step - loss: 0.0756 - accuracy: 0.9732 - val_loss: 0.1262 - val_accuracy: 0.9366\n",
            "Epoch 5/30\n",
            "26/26 [==============================] - 137s 5s/step - loss: 0.0301 - accuracy: 0.9927 - val_loss: 0.0988 - val_accuracy: 0.9756\n",
            "Epoch 6/30\n",
            "26/26 [==============================] - 155s 6s/step - loss: 0.0060 - accuracy: 0.9964 - val_loss: 0.1502 - val_accuracy: 0.9561\n",
            "Epoch 7/30\n",
            "26/26 [==============================] - 139s 5s/step - loss: 0.0045 - accuracy: 1.0000 - val_loss: 0.0613 - val_accuracy: 0.9659\n",
            "Epoch 8/30\n",
            "26/26 [==============================] - 137s 5s/step - loss: 3.6654e-04 - accuracy: 1.0000 - val_loss: 0.1116 - val_accuracy: 0.9659\n",
            "Epoch 9/30\n",
            "26/26 [==============================] - 138s 5s/step - loss: 9.3629e-05 - accuracy: 1.0000 - val_loss: 0.0632 - val_accuracy: 0.9756\n",
            "Epoch 10/30\n",
            "26/26 [==============================] - 146s 6s/step - loss: 6.0399e-05 - accuracy: 1.0000 - val_loss: 0.0753 - val_accuracy: 0.9707\n",
            "Epoch 11/30\n",
            "26/26 [==============================] - 148s 6s/step - loss: 4.2361e-05 - accuracy: 1.0000 - val_loss: 0.0806 - val_accuracy: 0.9707\n",
            "Epoch 12/30\n",
            "26/26 [==============================] - 138s 5s/step - loss: 3.4964e-05 - accuracy: 1.0000 - val_loss: 0.0848 - val_accuracy: 0.9707\n",
            "Epoch 13/30\n",
            "26/26 [==============================] - 139s 5s/step - loss: 2.9608e-05 - accuracy: 1.0000 - val_loss: 0.0850 - val_accuracy: 0.9707\n",
            "Epoch 14/30\n",
            "26/26 [==============================] - 145s 6s/step - loss: 2.5192e-05 - accuracy: 1.0000 - val_loss: 0.0860 - val_accuracy: 0.9707\n",
            "Epoch 15/30\n",
            "26/26 [==============================] - 138s 5s/step - loss: 2.1891e-05 - accuracy: 1.0000 - val_loss: 0.0861 - val_accuracy: 0.9707\n",
            "Epoch 16/30\n",
            "26/26 [==============================] - 139s 5s/step - loss: 1.9167e-05 - accuracy: 1.0000 - val_loss: 0.0867 - val_accuracy: 0.9707\n",
            "Epoch 17/30\n",
            "26/26 [==============================] - 139s 5s/step - loss: 1.6825e-05 - accuracy: 1.0000 - val_loss: 0.0880 - val_accuracy: 0.9707\n",
            "Epoch 18/30\n",
            "26/26 [==============================] - 139s 5s/step - loss: 1.5034e-05 - accuracy: 1.0000 - val_loss: 0.0879 - val_accuracy: 0.9707\n",
            "Epoch 19/30\n",
            "26/26 [==============================] - 139s 5s/step - loss: 1.3492e-05 - accuracy: 1.0000 - val_loss: 0.0881 - val_accuracy: 0.9707\n",
            "Epoch 20/30\n",
            "26/26 [==============================] - 139s 5s/step - loss: 1.2154e-05 - accuracy: 1.0000 - val_loss: 0.0892 - val_accuracy: 0.9707\n",
            "Epoch 21/30\n",
            "26/26 [==============================] - 140s 5s/step - loss: 1.1111e-05 - accuracy: 1.0000 - val_loss: 0.0904 - val_accuracy: 0.9707\n",
            "Epoch 22/30\n",
            "26/26 [==============================] - 139s 5s/step - loss: 1.0177e-05 - accuracy: 1.0000 - val_loss: 0.0909 - val_accuracy: 0.9707\n",
            "Epoch 23/30\n",
            "26/26 [==============================] - 148s 6s/step - loss: 9.4312e-06 - accuracy: 1.0000 - val_loss: 0.0919 - val_accuracy: 0.9707\n",
            "Epoch 24/30\n",
            "26/26 [==============================] - 139s 5s/step - loss: 8.5472e-06 - accuracy: 1.0000 - val_loss: 0.0918 - val_accuracy: 0.9707\n",
            "Epoch 25/30\n",
            "26/26 [==============================] - 140s 5s/step - loss: 7.9289e-06 - accuracy: 1.0000 - val_loss: 0.0925 - val_accuracy: 0.9707\n",
            "Epoch 26/30\n",
            "26/26 [==============================] - 138s 5s/step - loss: 7.2658e-06 - accuracy: 1.0000 - val_loss: 0.0937 - val_accuracy: 0.9707\n",
            "Epoch 27/30\n",
            "26/26 [==============================] - 138s 5s/step - loss: 6.7028e-06 - accuracy: 1.0000 - val_loss: 0.0941 - val_accuracy: 0.9707\n",
            "Epoch 28/30\n",
            "26/26 [==============================] - 145s 5s/step - loss: 6.2748e-06 - accuracy: 1.0000 - val_loss: 0.0960 - val_accuracy: 0.9707\n",
            "Epoch 29/30\n",
            "26/26 [==============================] - 139s 5s/step - loss: 5.8218e-06 - accuracy: 1.0000 - val_loss: 0.0966 - val_accuracy: 0.9707\n",
            "Epoch 30/30\n",
            "26/26 [==============================] - 138s 5s/step - loss: 5.3650e-06 - accuracy: 1.0000 - val_loss: 0.0975 - val_accuracy: 0.9707\n"
          ]
        }
      ],
      "source": [
        "history = model.fit(train_data, epochs=30, validation_data=validation_data)"
      ]
    },
    {
      "cell_type": "code",
      "execution_count": null,
      "metadata": {
        "colab": {
          "base_uri": "https://localhost:8080/",
          "height": 430
        },
        "id": "QX2v7GmALM97",
        "outputId": "58caceaf-c7e0-44db-db60-c0a441d04d8a"
      },
      "outputs": [
        {
          "output_type": "display_data",
          "data": {
            "text/plain": [
              "<Figure size 640x480 with 1 Axes>"
            ],
            "image/png": "[encoded data removed]"
          },
          "metadata": {}
        }
      ],
      "source": [
        "import matplotlib.pyplot as plt\n",
        "\n",
        "plt.plot(history.history['accuracy'],color='red',label='train')\n",
        "plt.plot(history.history['val_accuracy'],color='blue',label='validation')\n",
        "plt.legend()\n",
        "plt.show()"
      ]
    },
    {
      "cell_type": "code",
      "source": [
        "import matplotlib.pyplot as plt\n",
        "\n",
        "plt.plot(history.history['loss'],color='red',label='train')\n",
        "plt.plot(history.history['val_loss'],color='blue',label='validation')\n",
        "plt.legend()\n",
        "plt.show()"
      ],
      "metadata": {
        "colab": {
          "base_uri": "https://localhost:8080/",
          "height": 430
        },
        "id": "vGMsUMf9Fcru",
        "outputId": "f3c26312-39b4-421b-8cc9-2d9d3eae17be"
      },
      "execution_count": null,
      "outputs": [
        {
          "output_type": "display_data",
          "data": {
            "text/plain": [
              "<Figure size 640x480 with 1 Axes>"
            ],
            "image/png": "[encoded data removed]"
          },
          "metadata": {}
        }
      ]
    },
    {
      "cell_type": "code",
      "source": [
        "from google.colab import drive\n",
        "drive.mount('/content/drive')"
      ],
      "metadata": {
        "colab": {
          "base_uri": "https://localhost:8080/"
        },
        "id": "dUSgTyWTHBlj",
        "outputId": "1edf8fde-70fe-420d-9be3-937e92ab18a9"
      },
      "execution_count": null,
      "outputs": [
        {
          "output_type": "stream",
          "name": "stdout",
          "text": [
            "Drive already mounted at /content/drive; to attempt to forcibly remount, call drive.mount(\"/content/drive\", force_remount=True).\n"
          ]
        }
      ]
    },
    {
      "cell_type": "code",
      "execution_count": null,
      "metadata": {
        "id": "e3R4sltbM9zM",
        "colab": {
          "base_uri": "https://localhost:8080/"
        },
        "outputId": "68c63b98-54d5-4684-9c6d-6e062844fdd0"
      },
      "outputs": [
        {
          "output_type": "stream",
          "name": "stdout",
          "text": [
            "Found 1283 images belonging to 2 classes.\n"
          ]
        }
      ],
      "source": [
        "test_datagen = ImageDataGenerator(rescale=1./255)\n",
        "test_data = test_datagen.flow_from_directory(\n",
        "    test_dir,\n",
        "    target_size=(256,256),\n",
        "    batch_size=32,\n",
        "    class_mode='binary'\n",
        ")"
      ]
    },
    {
      "cell_type": "code",
      "execution_count": null,
      "metadata": {
        "id": "E3AzCRvHM-CB",
        "colab": {
          "base_uri": "https://localhost:8080/"
        },
        "outputId": "20c8cdde-e8fa-400e-a4ba-3bbda2cc0316"
      },
      "outputs": [
        {
          "output_type": "stream",
          "name": "stdout",
          "text": [
            "41/41 [==============================] - 646s 16s/step\n",
            "[[1.0000000e+00]\n",
            " [1.0000000e+00]\n",
            " [8.7975070e-07]\n",
            " ...\n",
            " [1.8533450e-13]\n",
            " [1.0000000e+00]\n",
            " [9.9999994e-01]]\n"
          ]
        }
      ],
      "source": [
        "#predict the test data\n",
        "predictions = model.predict(test_data)\n",
        "print(predictions)"
      ]
    },
    {
      "cell_type": "code",
      "execution_count": null,
      "metadata": {
        "id": "7sMb-rlUNKOi",
        "colab": {
          "base_uri": "https://localhost:8080/"
        },
        "outputId": "d9db1ded-a752-4873-8b57-438db099134d"
      },
      "outputs": [
        {
          "output_type": "execute_result",
          "data": {
            "text/plain": [
              "1283"
            ]
          },
          "metadata": {},
          "execution_count": 14
        }
      ],
      "source": [
        "len(predictions)"
      ]
    },
    {
      "cell_type": "code",
      "execution_count": null,
      "metadata": {
        "id": "6mZ0DaAbNKSE",
        "colab": {
          "base_uri": "https://localhost:8080/"
        },
        "outputId": "47bfc78c-e435-4d87-a711-252e001fb7e1"
      },
      "outputs": [
        {
          "output_type": "stream",
          "name": "stdout",
          "text": [
            "Confusion Matrix:\n",
            "[[465 562]\n",
            " [114 142]]\n",
            "Classification Report:\n",
            "              precision    recall  f1-score   support\n",
            "\n",
            "           0       0.80      0.45      0.58      1027\n",
            "           1       0.20      0.55      0.30       256\n",
            "\n",
            "    accuracy                           0.47      1283\n",
            "   macro avg       0.50      0.50      0.44      1283\n",
            "weighted avg       0.68      0.47      0.52      1283\n",
            "\n"
          ]
        }
      ],
      "source": [
        "from sklearn.metrics import confusion_matrix, classification_report\n",
        "\n",
        "# Assuming you have ground truth labels (true_labels) and predicted labels (predictions)\n",
        "true_labels = test_data.classes\n",
        "predicted_labels = (predictions > 0.5).astype(int)  # Adjust the threshold as needed\n",
        "\n",
        "# Calculate confusion matrix\n",
        "cm = confusion_matrix(true_labels, predicted_labels)\n",
        "\n",
        "# Print confusion matrix\n",
        "print(\"Confusion Matrix:\")\n",
        "print(cm)\n",
        "\n",
        "# Print classification report\n",
        "print(\"Classification Report:\")\n",
        "print(classification_report(true_labels, predicted_labels))"
      ]
    },
    {
      "cell_type": "code",
      "source": [
        "#My dataset is available in googledrive; so I am accessing my drive from colab\n",
        "from google.colab import drive\n",
        "drive.mount('/content/drive', force_remount=True)\n",
        "#Once this is executed, you will see your drive appearing on the left hand side"
      ],
      "metadata": {
        "colab": {
          "base_uri": "https://localhost:8080/"
        },
        "id": "ZEFGh-oT0P_6",
        "outputId": "c65fbf13-f845-450f-920d-b63b548b61bb"
      },
      "execution_count": null,
      "outputs": [
        {
          "output_type": "stream",
          "name": "stdout",
          "text": [
            "Mounted at /content/drive\n"
          ]
        }
      ]
    },
    {
      "cell_type": "code",
      "source": [
        "# Define paths to the dataset\n",
        "train_dir = '/content/drive/MyDrive/train'  # Update with your actual path\n",
        "test_dir = '/content/drive/MyDrive/horse-or-human'    # Update with your actual path"
      ],
      "metadata": {
        "id": "p5S9Kwqy0QDN"
      },
      "execution_count": null,
      "outputs": []
    },
    {
      "cell_type": "code",
      "source": [
        "import os\n",
        "print(len(os.listdir('//content/drive/MyDrive/train/horses')))\n",
        "print(len(os.listdir('/content/drive/MyDrive/train/humans')))\n",
        "print(len(os.listdir('/content/drive/MyDrive/horse-or-human/train/horses')))\n",
        "print(len(os.listdir('/content/drive/MyDrive/horse-or-human/train/humans')))"
      ],
      "metadata": {
        "colab": {
          "base_uri": "https://localhost:8080/"
        },
        "id": "Qj7otS4i0QGs",
        "outputId": "f520633e-e2e7-4430-b9ac-16112848a28a"
      },
      "execution_count": null,
      "outputs": [
        {
          "output_type": "stream",
          "name": "stdout",
          "text": [
            "500\n",
            "527\n",
            "500\n",
            "527\n"
          ]
        }
      ]
    },
    {
      "cell_type": "code",
      "source": [
        "import tensorflow as tf\n",
        "from tensorflow.keras.preprocessing.image import ImageDataGenerator\n",
        "\n",
        "# Create ImageDataGenerator for training set\n",
        "train_datagen = ImageDataGenerator(\n",
        "    rescale=1./255,\n",
        "    validation_split=0.2  # Split 20% of the images for validation\n",
        ")\n",
        "\n",
        "# Load and prepare training data\n",
        "train_data = train_datagen.flow_from_directory(\n",
        "    train_dir,\n",
        "    target_size=(256,256),\n",
        "    batch_size=32,\n",
        "    class_mode='binary',  # 'binary' for binary classification (cats vs. dogs)\n",
        "    subset='training'  # Specify 'training' for the training set\n",
        ")\n",
        "\n",
        "# Create ImageDataGenerator for validation set\n",
        "validation_datagen = ImageDataGenerator(\n",
        "    rescale=1./255,\n",
        "    validation_split=0.2  # Note: Using the same validation split as in the training set\n",
        ")\n",
        "\n",
        "# Load and prepare validation data\n",
        "validation_data = validation_datagen.flow_from_directory(\n",
        "    train_dir,\n",
        "    target_size=(256,256),\n",
        "    batch_size=32,\n",
        "    class_mode='binary',\n",
        "    subset='validation'  # Specify 'validation' for the validation set\n",
        ")"
      ],
      "metadata": {
        "colab": {
          "base_uri": "https://localhost:8080/"
        },
        "id": "5zRP3Z8M0QRN",
        "outputId": "9e92d2fa-bcc7-4959-92ee-aeeea5759a2f"
      },
      "execution_count": null,
      "outputs": [
        {
          "output_type": "stream",
          "name": "stdout",
          "text": [
            "Found 822 images belonging to 2 classes.\n",
            "Found 205 images belonging to 2 classes.\n"
          ]
        }
      ]
    },
    {
      "cell_type": "code",
      "source": [
        "from tensorflow import keras\n",
        "from keras import Sequential\n",
        "from keras.layers import Dense,Conv2D,MaxPooling2D,Flatten\n",
        "\n",
        "resnet_model = Sequential()    #ResNet50 is a pre-trained model\n",
        "pretrained_model = tf.keras.applications.ResNet50(include_top = False, #because i have my own image of a diff dimension\n",
        "                                                input_shape = (256,256,3),\n",
        "                                                pooling = 'max', classes = 2,\n",
        "                                                weights = 'imagenet')\n",
        "for layer in pretrained_model.layers:\n",
        "    layer.trainable = False  #all layers in the Resnet50 is not trainable; keep those weights; I am going to add my own i/p and other layers\n",
        "\n",
        "resnet_model.add(pretrained_model)\n",
        "resnet_model.add(Flatten())\n",
        "resnet_model.add(Dense(512, activation = 'relu'))\n",
        "resnet_model.add(Dense(1, activation = 'sigmoid'))"
      ],
      "metadata": {
        "colab": {
          "base_uri": "https://localhost:8080/"
        },
        "id": "ZjBfP-Fp02ye",
        "outputId": "0a6d5f01-78ce-4560-c2e7-7d795ca1fe79"
      },
      "execution_count": null,
      "outputs": [
        {
          "output_type": "stream",
          "name": "stdout",
          "text": [
            "Downloading data from https://storage.googleapis.com/tensorflow/keras-applications/resnet/resnet50_weights_tf_dim_ordering_tf_kernels_notop.h5\n",
            "94765736/94765736 [==============================] - 4s 0us/step\n"
          ]
        }
      ]
    },
    {
      "cell_type": "code",
      "source": [
        "resnet_model.summary()"
      ],
      "metadata": {
        "colab": {
          "base_uri": "https://localhost:8080/"
        },
        "id": "hyXjAUSr020Q",
        "outputId": "d56c5cbf-fa3f-4711-f5c5-56238429426e"
      },
      "execution_count": null,
      "outputs": [
        {
          "output_type": "stream",
          "name": "stdout",
          "text": [
            "Model: \"sequential_1\"\n",
            "_________________________________________________________________\n",
            " Layer (type)                Output Shape              Param #   \n",
            "=================================================================\n",
            " resnet50 (Functional)       (None, 2048)              23587712  \n",
            "                                                                 \n",
            " flatten_1 (Flatten)         (None, 2048)              0         \n",
            "                                                                 \n",
            " dense_3 (Dense)             (None, 512)               1049088   \n",
            "                                                                 \n",
            " dense_4 (Dense)             (None, 1)                 513       \n",
            "                                                                 \n",
            "=================================================================\n",
            "Total params: 24637313 (93.98 MB)\n",
            "Trainable params: 1049601 (4.00 MB)\n",
            "Non-trainable params: 23587712 (89.98 MB)\n",
            "_________________________________________________________________\n"
          ]
        }
      ]
    },
    {
      "cell_type": "code",
      "source": [
        "from keras.optimizers import Adam\n",
        "resnet_model.compile(optimizer=Adam(learning_rate=0.001),loss='binary_crossentropy',metrics=['accuracy']) #binary_crossentropy - binary classification"
      ],
      "metadata": {
        "id": "NXONhLHF022_"
      },
      "execution_count": null,
      "outputs": []
    },
    {
      "cell_type": "code",
      "source": [
        "history = resnet_model.fit(train_data, epochs=3, validation_data=validation_data)"
      ],
      "metadata": {
        "colab": {
          "base_uri": "https://localhost:8080/"
        },
        "id": "7FJ1JjSb026l",
        "outputId": "42f461e2-8e5a-499a-d105-060835d259c9"
      },
      "execution_count": null,
      "outputs": [
        {
          "output_type": "stream",
          "name": "stdout",
          "text": [
            "Epoch 1/3\n",
            "26/26 [==============================] - 340s 13s/step - loss: 2.3925 - accuracy: 0.5693 - val_loss: 0.9591 - val_accuracy: 0.5659\n",
            "Epoch 2/3\n",
            "26/26 [==============================] - 317s 12s/step - loss: 0.4422 - accuracy: 0.7993 - val_loss: 0.6229 - val_accuracy: 0.6098\n",
            "Epoch 3/3\n",
            "26/26 [==============================] - 291s 11s/step - loss: 0.3142 - accuracy: 0.8771 - val_loss: 0.4529 - val_accuracy: 0.7415\n"
          ]
        }
      ]
    },
    {
      "cell_type": "code",
      "source": [
        "import matplotlib.pyplot as plt\n",
        "\n",
        "plt.plot(history.history['accuracy'],color='red',label='train')\n",
        "plt.plot(history.history['val_accuracy'],color='blue',label='validation')\n",
        "plt.legend()\n",
        "plt.show()"
      ],
      "metadata": {
        "colab": {
          "base_uri": "https://localhost:8080/",
          "height": 430
        },
        "id": "xsl2R50a1HRZ",
        "outputId": "dcdd36f7-dc9f-4768-fff6-a26243bf962f"
      },
      "execution_count": null,
      "outputs": [
        {
          "output_type": "display_data",
          "data": {
            "text/plain": [
              "<Figure size 640x480 with 1 Axes>"
            ],
            "image/png": "[encoded data removed]"
          },
          "metadata": {}
        }
      ]
    },
    {
      "cell_type": "code",
      "source": [
        "plt.plot(history.history['loss'],color='red',label='train')\n",
        "plt.plot(history.history['val_loss'],color='blue',label='validation')\n",
        "plt.legend()\n",
        "plt.show()"
      ],
      "metadata": {
        "colab": {
          "base_uri": "https://localhost:8080/",
          "height": 430
        },
        "id": "KKEZkYxg1QX8",
        "outputId": "e7b0a484-cf18-472b-e86b-e655d470f58b"
      },
      "execution_count": null,
      "outputs": [
        {
          "output_type": "display_data",
          "data": {
            "text/plain": [
              "<Figure size 640x480 with 1 Axes>"
            ],
            "image/png": "[encoded data removed]"
          },
          "metadata": {}
        }
      ]
    },
    {
      "cell_type": "code",
      "source": [
        "test_datagen = ImageDataGenerator(rescale=1./255)\n",
        "test_data = test_datagen.flow_from_directory(\n",
        "    test_dir,\n",
        "    target_size=(256,256),\n",
        "    batch_size=32,\n",
        "    class_mode='binary'\n",
        ")"
      ],
      "metadata": {
        "colab": {
          "base_uri": "https://localhost:8080/"
        },
        "id": "hnEUtXLu1QbX",
        "outputId": "97c99159-24d6-4d06-f01f-b48c03bfe470"
      },
      "execution_count": null,
      "outputs": [
        {
          "output_type": "stream",
          "name": "stdout",
          "text": [
            "Found 1283 images belonging to 2 classes.\n"
          ]
        }
      ]
    },
    {
      "cell_type": "code",
      "source": [
        "#predict the test data\n",
        "predictions = resnet_model.predict(test_data)\n",
        "print(predictions)"
      ],
      "metadata": {
        "colab": {
          "base_uri": "https://localhost:8080/"
        },
        "id": "9UmFVD6Y1ZyD",
        "outputId": "c1514497-fb45-4d53-fb9a-81db1e09c83b"
      },
      "execution_count": null,
      "outputs": [
        {
          "output_type": "stream",
          "name": "stdout",
          "text": [
            "41/41 [==============================] - 372s 9s/step\n",
            "[[0.99877703]\n",
            " [0.9342386 ]\n",
            " [0.99988604]\n",
            " ...\n",
            " [0.24160238]\n",
            " [0.9962861 ]\n",
            " [0.9728198 ]]\n"
          ]
        }
      ]
    },
    {
      "cell_type": "code",
      "source": [
        "len(predictions)"
      ],
      "metadata": {
        "id": "1uIQ2NUFCkm3",
        "outputId": "19f7c347-cdd4-4b36-f7fe-5e876385741a",
        "colab": {
          "base_uri": "https://localhost:8080/",
          "height": 141
        }
      },
      "execution_count": 59,
      "outputs": [
        {
          "output_type": "error",
          "ename": "NameError",
          "evalue": "name 'predictions' is not defined",
          "traceback": [
            "\u001b[0;31m---------------------------------------------------------------------------\u001b[0m",
            "\u001b[0;31mNameError\u001b[0m                                 Traceback (most recent call last)",
            "\u001b[0;32m<ipython-input-59-5eb54f544848>\u001b[0m in \u001b[0;36m<cell line: 1>\u001b[0;34m()\u001b[0m\n\u001b[0;32m----> 1\u001b[0;31m \u001b[0mlen\u001b[0m\u001b[0;34m(\u001b[0m\u001b[0mpredictions\u001b[0m\u001b[0;34m)\u001b[0m\u001b[0;34m\u001b[0m\u001b[0;34m\u001b[0m\u001b[0m\n\u001b[0m",
            "\u001b[0;31mNameError\u001b[0m: name 'predictions' is not defined"
          ]
        }
      ]
    },
    {
      "cell_type": "code",
      "source": [
        "from sklearn.metrics import confusion_matrix, classification_report\n",
        "\n",
        "# Assuming you have ground truth labels (true_labels) and predicted labels (predictions)\n",
        "true_labels = test_data.classes\n",
        "predicted_labels = (predictions > 0.5).astype(int)  # Adjust the threshold as needed\n",
        "\n",
        "# Calculate confusion matrix\n",
        "cm = confusion_matrix(true_labels, predicted_labels)\n",
        "\n",
        "# Print confusion matrix\n",
        "print(\"Confusion Matrix:\")\n",
        "print(cm)\n",
        "\n",
        "# Print classification report\n",
        "print(\"Classification Report:\")\n",
        "print(classification_report(true_labels, predicted_labels))"
      ],
      "metadata": {
        "id": "8_5xhunC1ieW",
        "colab": {
          "base_uri": "https://localhost:8080/",
          "height": 211
        },
        "outputId": "f252779e-9d61-4df5-8e71-ca013b9c1b71"
      },
      "execution_count": 57,
      "outputs": [
        {
          "output_type": "error",
          "ename": "NameError",
          "evalue": "name 'test_data' is not defined",
          "traceback": [
            "\u001b[0;31m---------------------------------------------------------------------------\u001b[0m",
            "\u001b[0;31mNameError\u001b[0m                                 Traceback (most recent call last)",
            "\u001b[0;32m<ipython-input-57-63144baae702>\u001b[0m in \u001b[0;36m<cell line: 4>\u001b[0;34m()\u001b[0m\n\u001b[1;32m      2\u001b[0m \u001b[0;34m\u001b[0m\u001b[0m\n\u001b[1;32m      3\u001b[0m \u001b[0;31m# Assuming you have ground truth labels (true_labels) and predicted labels (predictions)\u001b[0m\u001b[0;34m\u001b[0m\u001b[0;34m\u001b[0m\u001b[0m\n\u001b[0;32m----> 4\u001b[0;31m \u001b[0mtrue_labels\u001b[0m \u001b[0;34m=\u001b[0m \u001b[0mtest_data\u001b[0m\u001b[0;34m.\u001b[0m\u001b[0mclasses\u001b[0m\u001b[0;34m\u001b[0m\u001b[0;34m\u001b[0m\u001b[0m\n\u001b[0m\u001b[1;32m      5\u001b[0m \u001b[0mpredicted_labels\u001b[0m \u001b[0;34m=\u001b[0m \u001b[0;34m(\u001b[0m\u001b[0mpredictions\u001b[0m \u001b[0;34m>\u001b[0m \u001b[0;36m0.5\u001b[0m\u001b[0;34m)\u001b[0m\u001b[0;34m.\u001b[0m\u001b[0mastype\u001b[0m\u001b[0;34m(\u001b[0m\u001b[0mint\u001b[0m\u001b[0;34m)\u001b[0m  \u001b[0;31m# Adjust the threshold as needed\u001b[0m\u001b[0;34m\u001b[0m\u001b[0;34m\u001b[0m\u001b[0m\n\u001b[1;32m      6\u001b[0m \u001b[0;34m\u001b[0m\u001b[0m\n",
            "\u001b[0;31mNameError\u001b[0m: name 'test_data' is not defined"
          ]
        }
      ]
    }
  ],
  "metadata": {
    "colab": {
      "provenance": [],
      "toc_visible": true
    },
    "kernelspec": {
      "display_name": "Python 3",
      "name": "python3"
    },
    "language_info": {
      "name": "python"
    }
  },
  "nbformat": 4,
  "nbformat_minor": 0
}